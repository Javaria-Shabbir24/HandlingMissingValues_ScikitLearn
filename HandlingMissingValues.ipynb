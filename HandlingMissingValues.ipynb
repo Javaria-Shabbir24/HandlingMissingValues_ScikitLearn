{
 "cells": [
  {
   "cell_type": "code",
   "execution_count": 1,
   "id": "ae39d5d3-11dd-458d-85f0-d98ea772c72a",
   "metadata": {},
   "outputs": [],
   "source": [
    "import pandas as pd\n",
    "import seaborn as sns\n",
    "import matplotlib.pyplot as plt"
   ]
  },
  {
   "cell_type": "code",
   "execution_count": 3,
   "id": "06fb327d-8ac0-4e59-92e5-0069d83d8340",
   "metadata": {},
   "outputs": [],
   "source": [
    "dataset = pd.read_excel(\"D:\\Study\\Machine Learning\\HandlingMissingValues_ScikitLearn\\dataset1.xlsx\")"
   ]
  },
  {
   "cell_type": "code",
   "execution_count": 4,
   "id": "9d3c3897-1f26-4202-8093-44dad57c279f",
   "metadata": {},
   "outputs": [
    {
     "name": "stdout",
     "output_type": "stream",
     "text": [
      "     type Urgency severity  priority\n",
      "0    Task     low    minor       4.0\n",
      "1    Task     NaN    minor       4.0\n",
      "2    Task     low    minor       NaN\n",
      "3    Task     low      NaN       4.0\n",
      "4    Task     NaN    minor       4.0\n",
      "..    ...     ...      ...       ...\n",
      "485  Task     low    minor       4.0\n",
      "486  Task     low    minor       4.0\n",
      "487   Bug     low    minor       4.0\n",
      "488   Bug     low    minor       4.0\n",
      "489  Task     low    minor       4.0\n",
      "\n",
      "[490 rows x 4 columns]\n"
     ]
    }
   ],
   "source": [
    "print(dataset)"
   ]
  },
  {
   "cell_type": "code",
   "execution_count": 8,
   "id": "de9e097c-d707-4ce5-8157-3350c58f5472",
   "metadata": {},
   "outputs": [
    {
     "data": {
      "text/plain": [
       "type         0\n",
       "Urgency     14\n",
       "severity     4\n",
       "priority    10\n",
       "dtype: int64"
      ]
     },
     "execution_count": 8,
     "metadata": {},
     "output_type": "execute_result"
    }
   ],
   "source": [
    "dataset.isnull().sum()"
   ]
  },
  {
   "cell_type": "code",
   "execution_count": 9,
   "id": "40463288-0091-4618-8fbd-46389f9257c8",
   "metadata": {},
   "outputs": [
    {
     "name": "stdout",
     "output_type": "stream",
     "text": [
      "<class 'pandas.core.frame.DataFrame'>\n",
      "RangeIndex: 490 entries, 0 to 489\n",
      "Data columns (total 4 columns):\n",
      " #   Column    Non-Null Count  Dtype  \n",
      "---  ------    --------------  -----  \n",
      " 0   type      490 non-null    object \n",
      " 1   Urgency   476 non-null    object \n",
      " 2   severity  486 non-null    object \n",
      " 3   priority  480 non-null    float64\n",
      "dtypes: float64(1), object(3)\n",
      "memory usage: 15.4+ KB\n"
     ]
    }
   ],
   "source": [
    "dataset.info()\n"
   ]
  },
  {
   "cell_type": "markdown",
   "id": "22e29074-cab1-4900-9477-34fc110e279a",
   "metadata": {},
   "source": [
    "# selecting numerical values columns"
   ]
  },
  {
   "cell_type": "code",
   "execution_count": 14,
   "id": "bca29f6a-be3c-4f09-a306-311a4a572652",
   "metadata": {},
   "outputs": [
    {
     "data": {
      "text/plain": [
       "Index(['priority'], dtype='object')"
      ]
     },
     "execution_count": 14,
     "metadata": {},
     "output_type": "execute_result"
    }
   ],
   "source": [
    "dataset.select_dtypes(include=\"float64\").columns"
   ]
  },
  {
   "cell_type": "code",
   "execution_count": 19,
   "id": "f3cf8b1c-ffa8-4680-9f2b-43d45148d370",
   "metadata": {},
   "outputs": [],
   "source": [
    "from sklearn.impute import SimpleImputer"
   ]
  },
  {
   "cell_type": "code",
   "execution_count": 21,
   "id": "5c4385cd-b9cd-419f-aee4-f32ef8817df5",
   "metadata": {},
   "outputs": [],
   "source": [
    "si = SimpleImputer(strategy=\"mean\")"
   ]
  },
  {
   "cell_type": "code",
   "execution_count": 23,
   "id": "ea01f5e4-217b-4a59-bca3-260fb2032c48",
   "metadata": {},
   "outputs": [],
   "source": [
    "arr=si.fit_transform(dataset[['priority']])"
   ]
  },
  {
   "cell_type": "code",
   "execution_count": 26,
   "id": "8648f67b-dace-4a65-a3bc-f012fedb5b43",
   "metadata": {},
   "outputs": [],
   "source": [
    "new_dataset=pd.DataFrame(arr,columns=dataset.select_dtypes(include=\"float64\").columns)"
   ]
  },
  {
   "cell_type": "code",
   "execution_count": 27,
   "id": "89ba9f9c-d29a-43f7-8e80-18d1895097e7",
   "metadata": {},
   "outputs": [
    {
     "data": {
      "text/plain": [
       "priority    0\n",
       "dtype: int64"
      ]
     },
     "execution_count": 27,
     "metadata": {},
     "output_type": "execute_result"
    }
   ],
   "source": [
    "new_dataset.isnull().sum()"
   ]
  },
  {
   "cell_type": "code",
   "execution_count": null,
   "id": "55e72095-092d-4f92-9d45-483a6c15a6a4",
   "metadata": {},
   "outputs": [],
   "source": [
    "pr"
   ]
  }
 ],
 "metadata": {
  "kernelspec": {
   "display_name": "Python 3 (ipykernel)",
   "language": "python",
   "name": "python3"
  },
  "language_info": {
   "codemirror_mode": {
    "name": "ipython",
    "version": 3
   },
   "file_extension": ".py",
   "mimetype": "text/x-python",
   "name": "python",
   "nbconvert_exporter": "python",
   "pygments_lexer": "ipython3",
   "version": "3.11.4"
  }
 },
 "nbformat": 4,
 "nbformat_minor": 5
}
