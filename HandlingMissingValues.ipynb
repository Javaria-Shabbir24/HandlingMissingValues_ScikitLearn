{
 "cells": [
  {
   "cell_type": "code",
   "execution_count": 1,
   "id": "ae39d5d3-11dd-458d-85f0-d98ea772c72a",
   "metadata": {},
   "outputs": [],
   "source": [
    "import pandas as pd\n",
    "import seaborn as sns\n",
    "import matplotlib.pyplot as plt"
   ]
  },
  {
   "cell_type": "code",
   "execution_count": 3,
   "id": "06fb327d-8ac0-4e59-92e5-0069d83d8340",
   "metadata": {},
   "outputs": [],
   "source": [
    "dataset = pd.read_excel(\"D:\\Study\\Machine Learning\\HandlingMissingValues_ScikitLearn\\dataset1.xlsx\")"
   ]
  },
  {
   "cell_type": "code",
   "execution_count": 4,
   "id": "9d3c3897-1f26-4202-8093-44dad57c279f",
   "metadata": {},
   "outputs": [
    {
     "name": "stdout",
     "output_type": "stream",
     "text": [
      "     type Urgency severity  priority\n",
      "0    Task     low    minor       4.0\n",
      "1    Task     NaN    minor       4.0\n",
      "2    Task     low    minor       NaN\n",
      "3    Task     low      NaN       4.0\n",
      "4    Task     NaN    minor       4.0\n",
      "..    ...     ...      ...       ...\n",
      "485  Task     low    minor       4.0\n",
      "486  Task     low    minor       4.0\n",
      "487   Bug     low    minor       4.0\n",
      "488   Bug     low    minor       4.0\n",
      "489  Task     low    minor       4.0\n",
      "\n",
      "[490 rows x 4 columns]\n"
     ]
    }
   ],
   "source": [
    "print(dataset)"
   ]
  },
  {
   "cell_type": "code",
   "execution_count": null,
   "id": "de9e097c-d707-4ce5-8157-3350c58f5472",
   "metadata": {},
   "outputs": [],
   "source": []
  }
 ],
 "metadata": {
  "kernelspec": {
   "display_name": "Python 3 (ipykernel)",
   "language": "python",
   "name": "python3"
  },
  "language_info": {
   "codemirror_mode": {
    "name": "ipython",
    "version": 3
   },
   "file_extension": ".py",
   "mimetype": "text/x-python",
   "name": "python",
   "nbconvert_exporter": "python",
   "pygments_lexer": "ipython3",
   "version": "3.11.4"
  }
 },
 "nbformat": 4,
 "nbformat_minor": 5
}
